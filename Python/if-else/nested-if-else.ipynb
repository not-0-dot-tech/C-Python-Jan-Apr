{
 "cells": [
  {
   "cell_type": "code",
   "execution_count": 3,
   "metadata": {},
   "outputs": [
    {
     "name": "stdout",
     "output_type": "stream",
     "text": [
      "You have failed the exam and your marks are even\n"
     ]
    }
   ],
   "source": [
    "marks = int(input(\"Enter your marks: \"))\n",
    "\n",
    "if marks >= 50:\n",
    "    if not (marks % 2):\n",
    "        print(\"You have passed the exam and your marks are even\")\n",
    "    else:\n",
    "        print(\"You have passed the exam and your marks are odd\")\n",
    "else:\n",
    "    if not (marks % 2):\n",
    "        print(\"You have failed the exam and your marks are even\")\n",
    "    else:\n",
    "        print(\"You have failed the exam and your marks are odd\")"
   ]
  }
 ],
 "metadata": {
  "kernelspec": {
   "display_name": "Python 3",
   "language": "python",
   "name": "python3"
  },
  "language_info": {
   "codemirror_mode": {
    "name": "ipython",
    "version": 3
   },
   "file_extension": ".py",
   "mimetype": "text/x-python",
   "name": "python",
   "nbconvert_exporter": "python",
   "pygments_lexer": "ipython3",
   "version": "3.12.5"
  }
 },
 "nbformat": 4,
 "nbformat_minor": 2
}
