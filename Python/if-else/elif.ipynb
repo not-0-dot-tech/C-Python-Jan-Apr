{
 "cells": [
  {
   "cell_type": "code",
   "execution_count": 1,
   "metadata": {},
   "outputs": [
    {
     "name": "stdout",
     "output_type": "stream",
     "text": [
      "The number is positive.\n"
     ]
    }
   ],
   "source": [
    "# elif\n",
    "\n",
    "n = int(input(\"Enter a number: \"))\n",
    "\n",
    "if n < 0: \n",
    "    print(\"The number is negative.\")\n",
    "elif n == 0: # optional\n",
    "    print(\"The number is zero.\")\n",
    "else: # optional\n",
    "    print(\"The number is positive.\")"
   ]
  }
 ],
 "metadata": {
  "kernelspec": {
   "display_name": "Python 3",
   "language": "python",
   "name": "python3"
  },
  "language_info": {
   "codemirror_mode": {
    "name": "ipython",
    "version": 3
   },
   "file_extension": ".py",
   "mimetype": "text/x-python",
   "name": "python",
   "nbconvert_exporter": "python",
   "pygments_lexer": "ipython3",
   "version": "3.12.5"
  }
 },
 "nbformat": 4,
 "nbformat_minor": 2
}
