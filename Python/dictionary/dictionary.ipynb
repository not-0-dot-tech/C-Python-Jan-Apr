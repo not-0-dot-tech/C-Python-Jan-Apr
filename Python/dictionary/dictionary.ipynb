{
 "cells": [
  {
   "cell_type": "code",
   "execution_count": 6,
   "metadata": {},
   "outputs": [
    {
     "name": "stdout",
     "output_type": "stream",
     "text": [
      "{'brand': 'Audi', 'model': ['A4', 'A6', 'A8'], 'year': 2015, 'price': 25000.45, 'isSold': False}\n",
      "Audi\n",
      "['A4', 'A6', 'A8']\n",
      "brand\n",
      "model\n",
      "year\n",
      "price\n",
      "isSold\n"
     ]
    }
   ],
   "source": [
    "car = {\n",
    "    \"brand\" : \"Audi\",\n",
    "    \"model\" : [\"A4\", \"A6\", \"A8\"],\n",
    "    \"year\" : 2015,\n",
    "    \"price\" : 25000.45,\n",
    "    \"isSold\" : False\n",
    "}\n",
    "\n",
    "print(car)\n",
    "\n",
    "print(car[\"brand\"])\n",
    "print(car[\"model\"])"
   ]
  },
  {
   "cell_type": "code",
   "execution_count": 7,
   "metadata": {},
   "outputs": [
    {
     "data": {
      "text/plain": [
       "{'brand': 'Audi',\n",
       " 'model': ['A4', 'A6', 'A8'],\n",
       " 'year': 2016,\n",
       " 'price': 25000.45,\n",
       " 'isSold': False}"
      ]
     },
     "execution_count": 7,
     "metadata": {},
     "output_type": "execute_result"
    }
   ],
   "source": [
    "car[\"year\"] = 2016\n",
    "\n",
    "car"
   ]
  },
  {
   "cell_type": "code",
   "execution_count": 8,
   "metadata": {},
   "outputs": [
    {
     "data": {
      "text/plain": [
       "{'name': 'John', 'age': 25, 'isMarried': False}"
      ]
     },
     "execution_count": 8,
     "metadata": {},
     "output_type": "execute_result"
    }
   ],
   "source": [
    "student = dict(name=\"John\", age=25, isMarried=False)\n",
    "\n",
    "student"
   ]
  },
  {
   "cell_type": "code",
   "execution_count": 17,
   "metadata": {},
   "outputs": [
    {
     "name": "stdout",
     "output_type": "stream",
     "text": [
      "dict_keys(['brand', 'model', 'year', 'price', 'isSold'])\n",
      "dict_values(['Audi', ['A4', 'A6', 'A8'], 2016, 25000.45, False])\n",
      "dict_items([('brand', 'Audi'), ('model', ['A4', 'A6', 'A8']), ('year', 2016), ('price', 25000.45), ('isSold', False)])\n",
      "Audi\n",
      "Not Found !\n"
     ]
    }
   ],
   "source": [
    "print(car.keys())\n",
    "print(car.values())\n",
    "print(car.items())\n",
    "\n",
    "print(car.get(\"brand\"))\n",
    "print(car.get(\"color\", \"Not Found!\"))"
   ]
  },
  {
   "cell_type": "code",
   "execution_count": 22,
   "metadata": {},
   "outputs": [
    {
     "name": "stdout",
     "output_type": "stream",
     "text": [
      "{'brand': 'Audi', 'model': ['A4', 'A6', 'A8'], 'year': 2015, 'price': 25000.45, 'isSold': False, 'color': 'Black'}\n",
      "{'brand': 'Audi', 'model': ['A4', 'A6', 'A8'], 'year': 2015, 'price': 30000.45, 'isSold': False, 'color': 'Black'}\n",
      "{'brand': 'Audi', 'year': 2015, 'price': 30000.45, 'isSold': False, 'color': 'Black'}\n"
     ]
    }
   ],
   "source": [
    "car = {\n",
    "    \"brand\" : \"Audi\",\n",
    "    \"model\" : [\"A4\", \"A6\", \"A8\"],\n",
    "    \"year\" : 2015,\n",
    "    \"price\" : 25000.45,\n",
    "    \"isSold\" : False\n",
    "}\n",
    "\n",
    "car.update({\"color\" : \"Black\"}) # add new key-value pair\n",
    "print(car)\n",
    "\n",
    "car.update({\"price\" : 30000.45}) # update existing key-value pair\n",
    "print(car)\n",
    "\n",
    "car.pop(\"model\") # remove key-value pair\n",
    "print(car)"
   ]
  }
 ],
 "metadata": {
  "kernelspec": {
   "display_name": "base",
   "language": "python",
   "name": "python3"
  },
  "language_info": {
   "codemirror_mode": {
    "name": "ipython",
    "version": 3
   },
   "file_extension": ".py",
   "mimetype": "text/x-python",
   "name": "python",
   "nbconvert_exporter": "python",
   "pygments_lexer": "ipython3",
   "version": "3.12.4"
  }
 },
 "nbformat": 4,
 "nbformat_minor": 2
}
